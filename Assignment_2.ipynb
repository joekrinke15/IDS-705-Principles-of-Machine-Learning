{
 "cells": [
  {
   "cell_type": "markdown",
   "metadata": {},
   "source": [
    "# Assignment 2 - Machine Learning Basics\n",
    "\n",
    "## *Joseph Krinke*\n",
    "Netid:  *Jdk61*"
   ]
  },
  {
   "cell_type": "markdown",
   "metadata": {},
   "source": [
    "Instructions for all assignments can be found [here](https://github.com/kylebradbury/ids705/blob/master/assignments/_Assignment%20Instructions.ipynb), which is also linked to from the [course syllabus](https://kylebradbury.github.io/ids705/index.html)."
   ]
  },
  {
   "cell_type": "markdown",
   "metadata": {},
   "source": [
    "## Learning Objectives:\n",
    "This assignment will provide structured practice to help enable you to...\n",
    "- Implement a k-nearest neighbors machine learning algorithm from scratch in a style similar to that of popular machine learning tools like `scikit-learn`\n",
    "- Apply basic regression and classification supervised learning techniques to data and evaluate the performance of those methods\n",
    "- Understand the bias-variance tradeoff and the impact of model flexibility algorithm performance and model selections"
   ]
  },
  {
   "cell_type": "code",
   "execution_count": null,
   "metadata": {},
   "outputs": [],
   "source": [
    "# MAC USERS TAKE NOTE:\n",
    "# For clearer plots in Jupyter notebooks on macs, run the following line of code:\n",
    "# %config InlineBackend.figure_format = 'retina'"
   ]
  },
  {
   "cell_type": "markdown",
   "metadata": {},
   "source": [
    "# Conceptual Questions"
   ]
  },
  {
   "cell_type": "markdown",
   "metadata": {},
   "source": [
    "## 1\n",
    "**[5 points]**\n",
    "For each part (a) through (d), indicate whether we would generally expect the performance of a flexible statistical learning method to be better or worse than an inflexible method. Justify your answer.\n",
    "\n",
    "1. The sample size $n$ is extremely large, and the number of predictors $p$ is small.\n",
    "2. The number of predictors $p$ is extremely large, and the number of observations $n$ is small.\n",
    "3. The relationship between the predictors and response is highly non-linear.\n",
    "4. The variance of the error terms, i.e. $\\sigma^2 = Var(\\epsilon)$, is extremely high"
   ]
  },
  {
   "cell_type": "markdown",
   "metadata": {},
   "source": [
    "**ANSWER**\n",
    "\n",
    "(a) A flexible method will be better. The flexible method will fit the data better. Additionally, having a large amount of data will reduce the chance you overfit to a small fluctuation in the data due to sampling. \n",
    "\n",
    "(b) A flexible method will be worse. Having a small amount of data means it is likely you will overfit the model to due to random error.\n",
    "\n",
    "(c) A flexible method will be better. The flexible method has more possible \"knobs to turn\" that would allow it to better approximate the non-linearity. \n",
    "\n",
    "(d) A flexible method will be worse. A more flexible model will overfit and model the large error in the data rather the true signal. "
   ]
  },
  {
   "cell_type": "markdown",
   "metadata": {},
   "source": [
    "## 2\n",
    "**[5 points]** For each of the following, (i) explain if each scenario is a classification or regression problem, (ii) indicate whether we are most interested in inference or prediction for that problem, and (iii) provide the sample size $n$ and number of predictors $p$ indicated for each scenario.\n",
    "\n",
    "**(a)** We collect a set of data on the top 500 firms in the US. For each firm we record profit, number of employees, industry and the CEO salary. We are interested in understanding which factors affect CEO salary.\n",
    "\n",
    "**(b)** We are considering launching a new product and wish to know whether it will be a success or a failure. We collect data on 20 similar products that were previously launched. For each product we have recorded whether it was a success or failure, price charged for the product, marketing budget, competition price, and ten other variables.\n",
    "\n",
    "**(c)** We are interesting in predicting the % change in the US dollar in relation to the weekly changes in the world stock markets. Hence we collect weekly data for all of 2012. For each week we record the % change in the dollar, the % change in the US market, the % change in the British market, and the % change in the German market."
   ]
  },
  {
   "cell_type": "markdown",
   "metadata": {},
   "source": [
    "**ANSWER**\n",
    "\n",
    "(a) This is a regression problem. We are trying to predict numerical CEO salaries using 500 observations (n = 500) of profit, number of employees, and industry (p = 3).\n",
    "\n",
    "(b) This is a classification problem, as we are trying to determine a binary success or failure. There are 13 features (p = 13) and 20 observations (n = 20).\n",
    "\n",
    "(c) This is a regression problem. The percent change in the US dollar is a numeric measure. Our features are % change in US market, % change in the British market, and the % change in the German market (p = 3). We are recording data for each week in 2012. A year has 52 weeks so we have 52 observations total (n = 52). "
   ]
  },
  {
   "cell_type": "markdown",
   "metadata": {},
   "source": [
    "# Practical Questions"
   ]
  },
  {
   "cell_type": "markdown",
   "metadata": {},
   "source": [
    "## 3\n",
    "**[10 points] Classification II**. The table below provides a training dataset containing six observations ($n=6$), three predictors ($p=3$), and one qualitative response variable.\n",
    "\n",
    "*Table 1. Dataset with $n=6$ observations in $p=3$ dimensions with a categorical response, $y$*\n",
    "\n",
    "| Obs. | $x_1$ | $x_2$ | $x_3$ | $y$   |\n",
    "|------|-------|-------|-------|-------|\n",
    "| **1**| 0     | 3     | 0     | Red   |\n",
    "| **2**| 2     | 0     | 0     | Red   |\n",
    "| **3**| 0     | 1     | 3     | Red   |\n",
    "| **4**| 0     | 1     | 2     | Blue  |\n",
    "| **5**| -1    | 0     | 1     | Blue  |\n",
    "| **6**| 1     | 1     | 1     | Red   |\n",
    "\n",
    "We want to use this dataset to make a prediction for $y$ when $x_1=x_2=x_3=0$ using $K$-nearest neighbors. You are given some code below to get you started.\n",
    "\n",
    "**(a)** Compute the Euclidean distance between each observation and the test point, $x_1=x_2=x_3=0$. Present your answer in a table similar in style to Table 1 with observations 1-6 as the row headers.\n",
    "\n",
    "**(b)** What is our prediction with $K=1$? Why?\n",
    "\n",
    "**(c)** What is our prediction with $K=3$? Why?\n",
    "\n",
    "**(d)** If the Bayes decision boundary (the optimal decision boundary) in this problem is highly nonlinear, then would we expect the *best* value of $K$ to be large or small? Why?"
   ]
  },
  {
   "cell_type": "code",
   "execution_count": 1,
   "metadata": {},
   "outputs": [
    {
     "name": "stdout",
     "output_type": "stream",
     "text": [
      "3.0\n",
      "2.0\n",
      "3.1622776601683795\n",
      "2.23606797749979\n",
      "1.4142135623730951\n",
      "1.7320508075688772\n"
     ]
    }
   ],
   "source": [
    "import numpy as np\n",
    "\n",
    "X = np.array([[ 0, 3, 0],\n",
    "              [ 2, 0, 0],\n",
    "              [ 0, 1, 3],\n",
    "              [ 0, 1, 2],\n",
    "              [-1, 0, 1],\n",
    "              [ 1, 1, 1]])\n",
    "y = np.array(['r','r','r','b','b','r'])\n",
    "\n",
    "# a() Computing euclidian distance between test point and each observation. \n",
    "\n",
    "test = [0,0,0] #Creating test point\n",
    "\n",
    "for i in range(X.shape[0]): #Iterate over rows of the array and calculate distance from test point.\n",
    "    print(np.linalg.norm(X[i] - test)) #Euclidian distance is the L2 norm\n",
    "    \n",
    "    \n",
    "\n",
    "\n"
   ]
  },
  {
   "cell_type": "markdown",
   "metadata": {},
   "source": [
    "**ANSWER**:\n",
    "\n",
    "(a)\n",
    "*Table 1. Distance from the test point for each observation in the training data.*\n",
    "\n",
    "| Obs. |$Distance$| $y$   |\n",
    "|------|-------   |-------|\n",
    "| **1**| 3.00     | Red   |\n",
    "| **2**| 2.00     | Red   |\n",
    "| **3**| 3.16     | Red   |\n",
    "| **4**| 2.24     | Blue  |\n",
    "| **5**| 1.41     | Blue  |\n",
    "| **6**| 1.73     | Red   |\n",
    "\n",
    "(b) Our prediction for the test point with K=1 is blue. The closest point to our test point is blue. Since K=1 we classify our test point as the same class as the closest point.\n",
    "\n",
    "(c) Our prediction for the test point with K=3 is red. The closest 3 points to our test point are have the classes blue, red, and red. Since the majority of those points have red as a class, we assign the test point a red classification. \n",
    "\n",
    "(d) If the Bayes decision boundary is highly nonlinear, we would want to find a value of K that is flexible enough to model that lack of linearity. Smaller values of K produce models that are more flexible. We would want a small value of K."
   ]
  },
  {
   "cell_type": "markdown",
   "metadata": {},
   "source": [
    "## 4\n",
    "**[20 points] Classification I: Creating a classification algorithm**.\n",
    "\n",
    "**(a)** Build a working version of a binary kNN classifier using the skeleton code below.\n",
    "\n",
    "**(b)** Load the datasets to be evaluated here. Each includes training features ($\\mathbf{X}$), and test features ($\\mathbf{y}$) for both a low dimensional ($p = 2$ features/predictors) and a high dimensional ($p = 100$ features/predictors). For each of these datasets there are $n=100$ observations of each. They can be found in the `data` subfolder in the `assignments` folder on github. Each file is labeled similar to `A2_X_train_low.csv`, which lets you know whether the dataset is of features, $X$, targets, $y$; training or testing; and low or high dimensions.\n",
    "\n",
    "**(c)** Train your classifier on first the low dimensional dataset and then the high dimensional dataset with $k=5$. Evaluate the classification performance on the corresponding test data for each. Calculate the time it takes to make the predictions in each case and the overall accuracy of each set of test data predictions.\n",
    "\n",
    "**(d)** Compare your implementation's accuracy and computation time to the scikit learn [KNeighborsClassifier](http://scikit-learn.org/stable/modules/generated/sklearn.neighbors.KNeighborsClassifier.html) class. How do the results and speed compare?\n",
    "\n",
    "**(e)** Some supervised learning algorithms are more computationally intensive during training than testing. What are the drawbacks of the prediction process being slow?"
   ]
  },
  {
   "cell_type": "markdown",
   "metadata": {},
   "source": [
    "**ANSWER**:"
   ]
  },
  {
   "cell_type": "code",
   "execution_count": 21,
   "metadata": {},
   "outputs": [],
   "source": [
    "# (a) Write your own kNN classifier\n",
    "import numpy as np\n",
    "\n",
    "class Knn:\n",
    "# k-Nearest Neighbor class object for classification training and testing\n",
    "    def __init__(self):\n",
    "        self.train_y = []\n",
    "        self.train_x = []\n",
    "       \n",
    "    def fit(self, x, y):\n",
    "        # Save the training data to properties of this class\n",
    "        self.train_y = y\n",
    "        self.train_x = x\n",
    "        \n",
    "    def predict(self, x, k):\n",
    "    \n",
    "        y_hat = []\n",
    "        \n",
    "        for j in range (len(x)): #Iterating over the rows in the data we are making predictions for. \n",
    "            distances = [] #Creating Variable to hold euclidian distances.\n",
    "            for i in range (len(self.train_x)): # Calculate the distance from each row in training x to rach row in test x.\n",
    "                distances.append((np.sqrt(np.sum((self.train_x[i]-x[j])**2))))\n",
    "                #Find k closest neighbors\n",
    "            closest_indices = sorted(range(len(distances)), key=lambda num: distances[num], reverse= True)[-k:]#Returns k indices corresponding to the closest neighbors\n",
    "            closest_class = (self.train_y[closest_indices].tolist()) #Determine which class of the k closest neighbors is most prevalent and getting all of the closest observation class labels.    \n",
    "            y_hat.append(max(set(closest_class), key = closest_class.count)) #Setting ith t y_hat to the most prevalent label.\n",
    "        \n",
    "        # Return the estimated targets\n",
    "        return y_hat\n",
    "\n",
    "# Metric of overall classification accuracy\n",
    "#  (a more general function, sklearn.metrics.accuracy_score, is also available)\n",
    "def accuracy(y,y_hat):\n",
    "        nvalues = len(y)\n",
    "        accuracy = sum(y == y_hat) / nvalues\n",
    "        return accuracy"
   ]
  },
  {
   "cell_type": "code",
   "execution_count": 2,
   "metadata": {},
   "outputs": [],
   "source": [
    "\n",
    "from io import StringIO\n",
    "from numpy import *\n",
    "\n",
    "#Reading in low dimensional data.\n",
    "low_dim_train_x = genfromtxt('A2_X_train_low.csv', delimiter=',')\n",
    "low_dim_train_y = genfromtxt('A2_y_train_low.csv', delimiter=',')\n",
    "low_dim_test_x  = genfromtxt('A2_X_test_low.csv', delimiter=',')\n",
    "low_dim_test_y = genfromtxt('A2_y_test_low.csv', delimiter=',')\n",
    "\n",
    "#Reading in high dimensional data.\n",
    "high_dim_train_x = genfromtxt('A2_X_train_high.csv', delimiter=',')\n",
    "high_dim_train_y = genfromtxt('A2_y_train_high.csv', delimiter=',')\n",
    "high_dim_test_x  = genfromtxt('A2_X_test_high.csv', delimiter=',')\n",
    "high_dim_test_y = genfromtxt('A2_y_test_high.csv', delimiter=',')\n",
    "\n",
    "\n",
    "\n"
   ]
  },
  {
   "cell_type": "code",
   "execution_count": 22,
   "metadata": {},
   "outputs": [
    {
     "name": "stdout",
     "output_type": "stream",
     "text": [
      "0.916\n"
     ]
    }
   ],
   "source": [
    "# Evaluate the performance of your kNN classifier on a low- and a high-dimensional dataset \n",
    "#   and time the predictions of each\n",
    "# Low dimensional dataset/ \n",
    "fit_low = Knn() #Creating class of fit\n",
    "\n",
    "fit_low.fit(low_dim_train_x, low_dim_train_y)\n",
    "\n",
    "#Fitting model for k=1\n",
    "k = 3\n",
    "\n",
    "low_dim_y_predictions = fit_low.predict(low_dim_test_x, k)\n",
    "\n",
    "#Checking accuracy\n",
    "print(accuracy(low_dim_test_y,low_dim_y_predictions))\n"
   ]
  },
  {
   "cell_type": "code",
   "execution_count": 24,
   "metadata": {},
   "outputs": [
    {
     "name": "stdout",
     "output_type": "stream",
     "text": [
      "0.995\n"
     ]
    }
   ],
   "source": [
    "#Testing on high dimension\n",
    "fit_high = Knn() #Creating class of fit\n",
    "\n",
    "fit_high.fit(high_dim_train_x, high_dim_train_y)\n",
    "\n",
    "#Fitting model for k=3\n",
    "k = 3\n",
    "\n",
    "high_dim_y_predictions = fit_high.predict(high_dim_test_x, k)\n",
    "\n",
    "#Checking accuracy\n",
    "print(accuracy(high_dim_test_y,high_dim_y_predictions))"
   ]
  },
  {
   "cell_type": "code",
   "execution_count": 61,
   "metadata": {},
   "outputs": [
    {
     "name": "stdout",
     "output_type": "stream",
     "text": [
      "0.916\n",
      "0.995\n"
     ]
    }
   ],
   "source": [
    "#d. Comparing my algorithm to sci-kit learn\n",
    "from sklearn.neighbors import KNeighborsClassifier\n",
    "\n",
    "#Fitting low-dimensional classifier \n",
    "KNeighbors_low = KNeighborsClassifier(n_neighbors = 3)\n",
    "\n",
    "KNeighbors_low.fit(low_dim_train_x, low_dim_train_y)\n",
    "\n",
    "Kneigh_low_yhat = KNeighbors_low.predict(low_dim_test_x)\n",
    "\n",
    "print(accuracy(low_dim_test_y, Kneigh_low_yhat))\n",
    "#Fitting high-dimensionalmodel with 3 neighbors. \n",
    "KNeighbors_high = KNeighborsClassifier(n_neighbors = 3)\n",
    "\n",
    "KNeighbors_high.fit(high_dim_train_x, high_dim_train_y)\n",
    "\n",
    "Kneigh_high_yhat = KNeighbors_high.predict(high_dim_test_x)\n",
    "\n",
    "print(accuracy(high_dim_test_y, Kneigh_high_yhat))\n"
   ]
  },
  {
   "cell_type": "markdown",
   "metadata": {},
   "source": [
    "## 5\n",
    "**[20 points] Bias-variance tradeoff I: Understanding the tradeoff**. This exercise will illustrate the impact of the bias-variance tradeoff on classifier performance by looking at classifier decision boundaries.\n",
    "\n",
    "**(a)** Create a synthetic dataset (with both features and targets). Use the [`make_moons`](http://scikit-learn.org/stable/modules/generated/sklearn.datasets.make_moons.html#sklearn.datasets.make_moons) module with the parameter `noise=0.35` to generate 1000 random samples.\n",
    "\n",
    "**(b)** Scatterplot your random samples with each class in a different color\n",
    "\n",
    "**(c)** Create 3 different data subsets by selecting 100 of the 1000 data points at random three times. For each of these 100-sample datasets, fit three k-Nearest Neighbor classifiers with: $k = \\{1, 25, 50\\}$. This will result in 9 combinations (3 datasets, with 3 trained classifiers).\n",
    "\n",
    "**(d)** For each combination of dataset trained classifier, in a 3-by-3 grid, plot the decision boundary (similar in style to Figure 2.15 from *Introduction to Statistical Learning*). Each column should represent a different value of $k$ and each row should represent a different dataset.\n",
    "\n",
    "**(e)** What do you notice about the difference between the rows and the columns. Which decision boundaries appear to best separate the two classes of data? Which decision boundaries vary the most as the data change?\n",
    "\n",
    "**(f)** Explain the bias-variance tradeoff using the example of the plots you made in this exercise."
   ]
  },
  {
   "cell_type": "code",
   "execution_count": 67,
   "metadata": {},
   "outputs": [
    {
     "data": {
      "image/png": "[encoded data removed]",
      "text/plain": [
       "<Figure size 576x576 with 2 Axes>"
      ]
     },
     "metadata": {
      "needs_background": "light"
     },
     "output_type": "display_data"
    }
   ],
   "source": [
    "from sklearn.datasets import make_moons \n",
    "import matplotlib\n",
    "import matplotlib.pyplot as plt\n",
    "from random import sample\n",
    "import numpy as np\n",
    "from sklearn import KNeighborsClassifier\n",
    "# A: creating synthetic dataset \n",
    "data, label = make_moons(noise = .35, n_samples = 1000) #Data contains x and y values. label contains classes. \n",
    "\n",
    "#B: Making scatter plot\n",
    "\n",
    "#Getting x and y values from data \n",
    "x = data[:,0]\n",
    "y = data[:,1]\n",
    "\n",
    "colors = ['red','blue'] #Assigning colors for classes 0 and 1. \n",
    "\n",
    "fig = plt.figure(figsize=(8,8))\n",
    "plt.scatter(x, y, c=label, cmap=matplotlib.colors.ListedColormap(colors)) #Plotting data and coloring by class.\n",
    "cb = plt.colorbar()\n",
    "loc = np.arange(0,max(label),max(label)/float(len(colors)))\n",
    "cb.set_ticks(loc)\n",
    "cb.set_ticklabels(['Class 0', 'Class 1']) #Labeling legend\n",
    "\n",
    "# C: Getting 3 subsets of data\n",
    "index_1 = np.random.randint(data.shape[0], size=100)\n",
    "index_2 = np.random.randint(data.shape[0], size=100)\n",
    "index_3 = np.random.randint(data.shape[0], size=100)\n",
    "subset_1 = data[index_1]\n",
    "label_1 = label[index_1]\n",
    "subset_2 = data[index_2]\n",
    "label_2 = label[index_2]\n",
    "subset_3 = data[index_3]\n",
    "label_3 = label[index_3]\n",
    "\n",
    "\n",
    "#Writing loop to generate classifiers.\n",
    "k_values = [1,25,100]\n",
    "nums = [1,2,3]\n",
    "for j in nums:\n",
    "    for i in k_values:\n",
    "        KNeighbors_low = KNeighborsClassifier(n_neighbors = 3)\n",
    "\n",
    "        KNeighbors_low.fit(low_dim_train_x, low_dim_train_y)\n",
    "\n",
    "        Kneigh_low_yhat = KNeighbors_low.predict(low_dim_test_x)\n",
    "\n",
    "    print(accuracy(low_dim_test_y, Kneigh_low_yhat))\n",
    "        "
   ]
  },
  {
   "cell_type": "markdown",
   "metadata": {},
   "source": [
    "**ANSWER**\n",
    "import sklearn"
   ]
  },
  {
   "cell_type": "markdown",
   "metadata": {},
   "source": [
    "## 6\n",
    "**[20 points] Bias-variance trade-off II: Quantifying the tradeoff**. This exercise will explore the impact of the bias-variance tradeoff on classifier performance by looking at classifier decision boundaries.\n",
    "\n",
    "Here, the value of $k$ determines how flexible our model is.\n",
    "\n",
    "**(a)** Using the function created earlier to generate random samples (using the `make_moons` function), create a new set of 1000 random samples, and call this dataset your test set and the previously created dataset your training set.\n",
    "\n",
    "**(b)** Train a kNN classifier on your training set for $k = 1,2,...500$. Apply each of these trained classifiers to both your training dataset and your test dataset and plot the classification error (fraction of mislabeled datapoints).\n",
    "\n",
    "**(c)** What trend do you see in the results?\n",
    "\n",
    "**(d)** What values of $k$ represent high bias and which represent high variance?\n",
    "\n",
    "**(e)** What is the optimal value of $k$ and why?\n",
    "\n",
    "**(f)** In kNN classifiers, the value of k controls the flexibility of the model - what controls the flexibility of other models?"
   ]
  },
  {
   "cell_type": "markdown",
   "metadata": {},
   "source": [
    "**ANSWER**"
   ]
  },
  {
   "cell_type": "markdown",
   "metadata": {},
   "source": [
    "## 7\n",
    "**[20 points] Linear regression and nonlinear transformations**. You're given training and testing data contained in files \"A2_Q7_train.csv\" and \"A2_Q7_test.csv\" in the \"data\" folder for this assignment. Your goal is to develop a regression algorithm from the training data that performs well on the test data.\n",
    "\n",
    "*Hint: Use the scikit learn [LinearRegression](http://scikit-learn.org/stable/modules/generated/sklearn.linear_model.LinearRegression.html) module.*\n",
    "\n",
    "**(a)** Create a scatter plot of your training data.\n",
    "\n",
    "**(b)** Estimate a linear regression model ($y = a_0 + a_1 x$) for the training data and calculate both the $R^2$ value and mean square error for the fit of that model for the training data. Also provide the equation representing the estimated model (e.g. $y = a_0 + a_1 x$, but with the estimated coefficients inserted.\n",
    "\n",
    "**(c)** If features can be nonlinearly transformed, a linear model may incorporate those non-linear feature transformation relationships in the training process. From looking at the scatter plot of the training data, choose a transformation of the predictor variable, $x$ that may make sense for these data. This will be a multiple regression model of the form $y = a_0 + a_1 x_1 + a_2 x_2 + \\ldots + a_n x_n$. Here $x_i$ could be any transformations of x - perhaps it's $\\frac{1}{x}$, $log(x)$, $sin(x)$, $x^k$ (where $k$ is any power of your choosing). Provide the estimated equation for this multiple regression model (e.g. if you chose your predictors to be $x_1 = x$ and $x_2 = log(x)$, your model would be of the form $y = a_0 + a_1 x + a_2 log(x)$. Also provide the $R^2$ and mean square error of the fit for the training data.\n",
    "\n",
    "**(d)** Using both of the models you created here in (b) and (c), plot the original data (as a scatter plot) and the two curves representing your models (each as a separate line).\n",
    "\n",
    "**(e)** Using the models above, apply them to the test data and estimate the $R^2$ and mean square error of the test dataset.\n",
    "\n",
    "**(f)** Which models perform better on the training data, and which on the test data? Why?\n",
    "\n",
    "**(g)** Imagine that the test data were significantly different from the training dataset. How might this affect the predictive capability of your model? Why?"
   ]
  },
  {
   "cell_type": "markdown",
   "metadata": {},
   "source": [
    "**ANSWER**"
   ]
  }
 ],
 "metadata": {
  "kernelspec": {
   "display_name": "Python 3",
   "language": "python",
   "name": "python3"
  },
  "language_info": {
   "codemirror_mode": {
    "name": "ipython",
    "version": 3
   },
   "file_extension": ".py",
   "mimetype": "text/x-python",
   "name": "python",
   "nbconvert_exporter": "python",
   "pygments_lexer": "ipython3",
   "version": "3.7.3"
  },
  "varInspector": {
   "cols": {
    "lenName": 16,
    "lenType": 16,
    "lenVar": 40
   },
   "kernels_config": {
    "python": {
     "delete_cmd_postfix": "",
     "delete_cmd_prefix": "del ",
     "library": "var_list.py",
     "varRefreshCmd": "print(var_dic_list())"
    },
    "r": {
     "delete_cmd_postfix": ") ",
     "delete_cmd_prefix": "rm(",
     "library": "var_list.r",
     "varRefreshCmd": "cat(var_dic_list()) "
    }
   },
   "types_to_exclude": [
    "module",
    "function",
    "builtin_function_or_method",
    "instance",
    "_Feature"
   ],
   "window_display": false
  }
 },
 "nbformat": 4,
 "nbformat_minor": 4
}
