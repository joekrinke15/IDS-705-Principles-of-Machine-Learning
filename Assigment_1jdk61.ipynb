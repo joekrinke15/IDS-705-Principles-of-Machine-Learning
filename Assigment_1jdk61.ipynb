{
 "cells": [
  {
   "cell_type": "markdown",
   "metadata": {},
   "source": [
    "# Assignment 1 - Probability, Linear Algebra, Programming, and Git"
   ]
  },
  {
   "cell_type": "markdown",
   "metadata": {},
   "source": [
    "## Joseph Krinke**\n",
    "Netid:  *jdk61*"
   ]
  },
  {
   "cell_type": "markdown",
   "metadata": {},
   "source": [
    "Instructions for all assignments can be found [here](https://github.com/kylebradbury/ids705/blob/master/assignments/_Assignment%20Instructions.ipynb), which is also linked to from the [course syllabus](https://kylebradbury.github.io/ids705/index.html)."
   ]
  },
  {
   "cell_type": "markdown",
   "metadata": {},
   "source": [
    "# Probability and Statistics Theory"
   ]
  },
  {
   "cell_type": "markdown",
   "metadata": {},
   "source": [
    "*Note: for all assignments, write out all equations and math using markdown and [LaTeX](https://tobi.oetiker.ch/lshort/lshort.pdf). For this section of the assignment (Probability and Statistics Theory) show and type up ALL math work*"
   ]
  },
  {
   "cell_type": "markdown",
   "metadata": {},
   "source": [
    "## 1\n",
    "**[3 points]**  \n",
    "Let $f(x) = \\begin{cases}\n",
    "                0           & x < 0  \\\\\n",
    "                \\alpha x^2  & 0 \\leq x \\leq 2 \\\\\n",
    "                0           & 2 < x\n",
    "            \\end{cases}$\n",
    "            \n",
    "For what value of $\\alpha$ is $f(x)$ a valid probability density function?"
   ]
  },
  {
   "cell_type": "markdown",
   "metadata": {},
   "source": [
    "**ANSWER**\n",
    "\n",
    "\n",
    "In order for a probability density function to be valid the sum of the area underneath that function must be one. To find the area underneath the curve we integrate the function $f(x)$ with regards to $x$ over the range of the function. Once that integration is complete we can find the value of $\\alpha$ that makes the area under the curve one.\n",
    "\n",
    "$$ 1 = \\int_{0}^{2} \\alpha x^2 dx$$\n",
    "\n",
    "This evaluates to the following:\n",
    "\n",
    "$$ 1 = \\frac{8\\alpha}{3}$$\n",
    "\n",
    "The value of $\\alpha$ that makes $f(x)$ a valid probability density function is: $$\\alpha = \\frac{3}{8}$$"
   ]
  },
  {
   "cell_type": "markdown",
   "metadata": {},
   "source": [
    "## 2\n",
    "**[3 points]** What is the cumulative distribution function (CDF) that corresponds to the following probability distribution function? Please state the value of the CDF for all possible values of $x$.\n",
    "\n",
    "$f(x) = \\begin{cases}\n",
    "    \\frac{1}{3} & 0 < x < 3 \\\\\n",
    "    0           & \\text{otherwise}\n",
    "    \\end{cases}$"
   ]
  },
  {
   "cell_type": "markdown",
   "metadata": {},
   "source": [
    "**ANSWER**\n",
    "\n",
    "This probability distribution indicates that each point is equally likely to occur- the distribution in question is a uniform distribution with parameters: $$ a = 0, b = 3$$. \n",
    "\n",
    "The CDF of a uniform variable is generally given by:\n",
    "\n",
    " $F(x) = \\begin{cases}\n",
    "                0           & x < a  \\\\\n",
    "                \\frac{x-a}{b-a} &  a \\leq x \\leq b \\\\\n",
    "                0           & x > b\n",
    "            \\end{cases}$\n",
    "\n",
    "Substituting the values we found for a and b yields:\n",
    "\n",
    " $F(x) = \\begin{cases}\n",
    "                0           & x < 0 \\\\\n",
    "                \\frac{x}{3} &  0 \\leq x \\leq 3 \\\\\n",
    "                0           & x > 3\n",
    "            \\end{cases}$\n",
    "\n",
    "\n"
   ]
  },
  {
   "cell_type": "markdown",
   "metadata": {},
   "source": [
    "## 3\n",
    "**[6 points]** For the probability distribution function for the random variable $X$,\n",
    "\n",
    "$f(x) = \\begin{cases}\n",
    "    \\frac{1}{3} & 0 < x < 3 \\\\\n",
    "    0           & \\text{otherwise}\n",
    "    \\end{cases}$\n",
    "    \n",
    "what is the (a) expected value and (b) variance of $X$. *Show all work*."
   ]
  },
  {
   "cell_type": "markdown",
   "metadata": {},
   "source": [
    "**ANSWER**\n",
    "\n",
    "(a)\n",
    "\n",
    "The expected value of a continuous random variable $X$ with probability distribution $f(x)$ and range $[a,b]$ is given by: $\\int_{a}^{b} x f(x) dx$\n",
    "\n",
    "Substituting in $f(x) = \\frac{1}{3}$ and range $[0,3]$ we get: $\\int_{0}^{3}  \\frac{x}{3} dx$\n",
    "\n",
    "Evaluating the integral gives: $\\mathbf{E}(X)= \\frac{3}{2}$\n",
    "\n",
    "(b) \n",
    "The variance of a continuous random variable is given by: $\\mathbf{E}(X^2)- \\mathbf{E}(X)^2$\n",
    "\n",
    "We earlier found that: $\\mathbf{E}(X) = \\frac{3}{2}$\n",
    "Squaring this value yields: $\\mathbf{E}(X)^2 = \\frac{9}{4}$\n",
    "\n",
    "Now to find $\\mathbf{E}(X^2)$  we simply use $X^2$ in our integral instead of $X$. \n",
    "\n",
    "$\\int_{a}^{b} x^2 f(x) dx$\n",
    "\n",
    "Plug in our known values:\n",
    "\n",
    "$\\int_{0}^{3} \\frac{x^2}{3} dx$\n",
    "\n",
    "Evaluating this integral gives $\\mathbf{E}(X^2) = 3$. \n",
    "\n",
    "The variance of $X$ is $ 3 - \\frac{9}{4} = \\frac{3}{4} = .75$\n",
    "\n",
    "\n"
   ]
  },
  {
   "cell_type": "markdown",
   "metadata": {},
   "source": [
    "## 4\n",
    "**[6 points]** Consider the following table of data that provides the values of a discrete data vector $\\mathbf{x}$ of samples from the random variable $X$, where each entry in $\\mathbf{x}$ is given as $x_i$.\n",
    "\n",
    "*Table 1. Dataset N=5 observations*\n",
    "\n",
    "|        | $x_0$ | $x_1$ | $x_2$ | $x_3$ | $x_4$ |\n",
    "|------  |-------|-------|-------|-------|-------|\n",
    "|$\\textbf{x}$| 2     | 3     | 10    | -1    | -1    |\n",
    "\n",
    "What is the (a) mean, (b) variance, and the  of the data? \n",
    "\n",
    "*Show all work. Your answer should include the definition of mean, median, and variance in the context of discrete data.*"
   ]
  },
  {
   "cell_type": "markdown",
   "metadata": {},
   "source": [
    "**ANSWER**\n",
    "(a)\n",
    "The mean of a data set with $n$ observations $X_i$ is given by:\n",
    "$$\\sum_{i=1}^{n} \\frac{x_i}{n}$$\n",
    "\n",
    "For this dataset $\\sum_{i=1}^{n} x_i = 13$ and $n = 5$ so the mean is $\\frac{13}{5}$.\n",
    "\n",
    "(b)\n",
    "The median in the discrete context is a value that divides the data into \"upper\" and \"lower\" halves. For the discrete case this can be written as a value $m$ that satisfies:\n",
    "$P(X \\geq m) \\geq .5$ and $ P(X \\leq m) \\geq .5$\n",
    "\n",
    "The median is 2.If we order the data {-1, -1, 2, 3, 10} we can see that $P(X \\geq 2)$ and $p(X \\leq 2)$ are both equal to $\\frac{3}{5}$ which means that both inequalities are satisfied. \n",
    "\n",
    "\n",
    "\n",
    "(c)\n",
    "The variance of discrete data is calculated in a similar way to the variance of continous data: $\\mathbf{E}(X^2)- \\mathbf{E}(X)^2$\n",
    "However, instead of integrating to find the expectation, one sums the product of $X_i$ or $X_i^2$ and the probability $f(x_i)$ for each value over the range of the variable.\n",
    "\n",
    "\n",
    "$\\mathbf{E}(x) = \\sum_{i=1}^{n}(x_i^2 f(x_i)) = \\frac{1}{5}   \\cdot 2 +\\frac{1}{5} \\cdot 3 + \\frac{1}{5} \\cdot 10 + \\frac{2}{5} \\cdot -1 = 13/25 $\n",
    "\n",
    "$\\mathbf{E}(X)^2 = \\frac{13}{5}^2 = \\frac{169}{25}$\n",
    "\n",
    "$\\mathbf{E}(X^2) = \\sum_{i=1}^{n}(x_i^2 f(x_i))  = \\frac{1}{5} \\cdot 4 +\\frac{1}{5} \\cdot 9 + \\frac{1}{5} \\cdot 100 + \\frac{2}{5} \\cdot 1 = 23 $\n",
    "\n",
    "$\\mathbf{E}(X^2)- \\mathbf{E}(X)^2 = 23 - \\frac{169}{25} = \\frac{406}{25} = 16.24$"
   ]
  },
  {
   "cell_type": "markdown",
   "metadata": {},
   "source": [
    "## 5\n",
    "**[8 points]** Review of counting from probability theory. \n",
    "\n",
    "(a) How many different 7-place license plates are possible if the first 3 places only contain letters and the last 4 only contain numbers?\n",
    "\n",
    "There are 26 letters to choose from and we are picking 3 for our license plate. The order of the letters matter in this case and they are being replaced. The number of letter choices possible can be given by: \n",
    "$26^3 = 17576$\n",
    "\n",
    "Additionally, 4 numbers also must be chosen to complete our license plate. We have 10 numbers (0-10) to choose from and, once again, the order in which we choose them matters and they are being replaced. The number of number choices possible can be given $ 10^4 = 10000$\n",
    "\n",
    "To get the total number of license plates we must multiply both numbers together. \n",
    "\n",
    "$ 17676 \\cdot 1000 = 176760000$\n",
    "\n",
    "There are $176760000$ license plate possibilities.\n",
    "\n",
    "(b) How many different batting orders are possible for a baseball team with 9 players?\n",
    "\n",
    "We can pick one player for each spot in the roster and the order matters. The number of players we have to pick from decreases by 1 every time we place a player, so we can compute the total number of orders using the following: \n",
    "\n",
    "$ 9! = 362880$ \n",
    "\n",
    "There are 362880 batting orders possible. \n",
    "\n",
    "(c) How many batting orders of 5 players are possible for a team with 9 players total?\n",
    "\n",
    "This is a permutation problem, as we now care about the order of the things we are selecting and are not replacing players. We divide by $(n-k)!$  to compensate.\n",
    "to compensate: \n",
    "$\\frac{n!}{(n-k)!}\n",
    "\\frac{9!}{(9-5)!} = 15120$\n",
    "\n",
    "There are 15120 possible batting orders of 5 players. \n",
    "\n",
    "(d) Let's assume this class has 26 students and we want to form project teams. How many unique teams of 3 are possible?\n",
    "\n",
    "This is a combination problem. We do not care about the order in which the students are selected and ther is no replacement. We can calculate combinations by using:\n",
    "$\\frac{n!}{(n-k)!(k)!}\n",
    "\\frac{26!}{(26-3)!(3)!} = 2600$\n",
    "\n",
    "There are 2600 possible project teams. \n",
    "\n",
    "*Hint: For each problem, determine if order matters, and if it should be calculated with or without replacement.*"
   ]
  },
  {
   "cell_type": "markdown",
   "metadata": {},
   "source": [
    "**ANSWER**"
   ]
  },
  {
   "cell_type": "markdown",
   "metadata": {},
   "source": [
    "# Linear Algebra"
   ]
  },
  {
   "cell_type": "markdown",
   "metadata": {},
   "source": [
    "## 6\n",
    "**[7 points]** **Matrix manipulations and multiplication**. Machine learning involves working with many matrices, so this exercise will provide you with the opportunity to practice those skills.\n",
    "\n",
    "Let\n",
    "$\\mathbf{A} =  \\begin{bmatrix}\n",
    "1 & 2 & 3 \\\\\n",
    "2 & 4 & 5 \\\\\n",
    "3 & 5 & 6 \n",
    "\\end{bmatrix}$, $\\mathbf{b} =  \\begin{bmatrix}\n",
    "-1  \\\\\n",
    "3  \\\\\n",
    "8  \n",
    "\\end{bmatrix}$, $\\mathbf{c} =  \\begin{bmatrix}\n",
    "4  \\\\\n",
    "-3  \\\\\n",
    "6  \n",
    "\\end{bmatrix}$, and $\\mathbf{I} =  \\begin{bmatrix}\n",
    "1 & 0 & 0 \\\\\n",
    "0 & 1 & 0 \\\\\n",
    "0 & 0 & 1 \n",
    "\\end{bmatrix}$\n",
    "\n",
    "Compute the following or indicate that it cannot be computed:\n",
    "\n",
    "1. $\\mathbf{A}\\mathbf{A}$\n",
    "2. $\\mathbf{A}\\mathbf{A}^T$\n",
    "3. $\\mathbf{A}\\mathbf{b}$\n",
    "4. $\\mathbf{A}\\mathbf{b}^T$\n",
    "5. $\\mathbf{b}\\mathbf{A}$\n",
    "6. $\\mathbf{b}^T\\mathbf{A}$\n",
    "7. $\\mathbf{b}\\mathbf{b}$\n",
    "8. $\\mathbf{b}^T\\mathbf{b}$\n",
    "9. $\\mathbf{b}\\mathbf{b}^T$\n",
    "10. $\\mathbf{b} + \\mathbf{c}^T$\n",
    "11. $\\mathbf{b}^T\\mathbf{b}^T$\n",
    "12. $\\mathbf{A}^{-1}\\mathbf{b}$\n",
    "13. $\\mathbf{A}\\circ\\mathbf{A}$\n",
    "14. $\\mathbf{b}\\circ\\mathbf{c}$\n",
    "\n",
    "*Note: The element-wise (or Hadamard) product is the product of each element in one matrix with the corresponding element in another matrix, and is represented by the symbol \"$\\circ$\".*"
   ]
  },
  {
   "cell_type": "code",
   "execution_count": 2,
   "metadata": {},
   "outputs": [
    {
     "name": "stdout",
     "output_type": "stream",
     "text": [
      "[[14 25 31]\n",
      " [25 45 56]\n",
      " [31 56 70]]\n",
      "[[14 25 31]\n",
      " [25 45 56]\n",
      " [31 56 70]]\n",
      "[[29]\n",
      " [50]\n",
      " [60]]\n",
      "[[29 50 60]]\n",
      "[[74]]\n",
      "[[ 1 -3 -8]\n",
      " [-3  9 24]\n",
      " [-8 24 64]]\n",
      "[[ 3 -4  5]\n",
      " [ 7  0  9]\n",
      " [12  5 14]]\n",
      "[[ 6.]\n",
      " [ 4.]\n",
      " [-5.]]\n",
      "[[ 1  4  9]\n",
      " [ 4 16 25]\n",
      " [ 9 25 36]]\n",
      "[[-4]\n",
      " [-9]\n",
      " [48]]\n"
     ]
    }
   ],
   "source": [
    "#Code to do linear algebra.\n",
    "import numpy as np \n",
    "\n",
    "#creating our arrays\n",
    "a = np.array([[1,2,3],[2,4,5],[3,5,6]])\n",
    "b = np.array([[-1],[3],[8]])\n",
    "c = np.array([[4],[-3],[6]])\n",
    "i = np.array([[1,0,0],[0,1,0],[0,0,1]])\n",
    "1.\n",
    "print(a @ a)\n",
    "2.\n",
    "print(a@np.transpose(a))\n",
    "3.\n",
    "print(a@b)\n",
    "4. #Not possible.\n",
    "#print(a@np.transpose(b))\n",
    "5. #Not possible.\n",
    "#print(b@a)\n",
    "6.\n",
    "print(np.transpose(b)@a)\n",
    "7.#Not possible\n",
    "#print(b@b)\n",
    "8.\n",
    "print(np.transpose(b)@b)\n",
    "9.\n",
    "print(b@np.transpose(b))\n",
    "10.\n",
    "print(b + np.transpose(c))\n",
    "11.#Not Possible\n",
    "#print(np.transpose(b)@np.transpose(b))\n",
    "12.\n",
    "print(np.linalg.inv(a)@b)\n",
    "\n",
    "#np.multiply is used for \"element-wise\" multiplication\n",
    "13.\n",
    "print(np.multiply(a,a))\n",
    "14.\n",
    "print(np.multiply(b,c))"
   ]
  },
  {
   "cell_type": "markdown",
   "metadata": {},
   "source": [
    "**ANSWER**\n",
    "\n",
    "1. \n",
    "$\\mathbf{AA} =  \\begin{bmatrix}\n",
    "14 & 25 & 31 \\\\\n",
    "25 & 45 & 56 \\\\\n",
    "31 & 56 & 70 \n",
    "\\end{bmatrix}$\n",
    "2. This is the same as the first problem as the transpose of a symmetric matrix is itself. \n",
    "$\\mathbf{AA^T} =  \\begin{bmatrix}\n",
    "14 & 25 & 31 \\\\\n",
    "25 & 45 & 56 \\\\\n",
    "31 & 56 & 70 \n",
    "\\end{bmatrix}$\n",
    "\n",
    "3.\n",
    "$\\mathbf{Ab} =  \\begin{bmatrix}\n",
    "29 \\\\\n",
    "50 \\\\\n",
    "69\n",
    "\\end{bmatrix}$\n",
    "\n",
    "4. Cannot be computed. There is a dimensional mismatch. 3x3 vs 1x3.\n",
    "\n",
    "5. Cannot be computed. There is a dimensional mismatch. 3x1 vs 3x3. \n",
    "\n",
    "6.\n",
    "$\\mathbf{b^TA} =  \\begin{bmatrix}\n",
    "29 & 50 & 69 \n",
    "\\end{bmatrix}$\n",
    "\n",
    "7. Cannot be computed. There is a dimensional mismatch. 3x1 vs 3x1.\n",
    "\n",
    "8.\n",
    "$\\mathbf{b^Tb} =  \\begin{bmatrix}\n",
    "74\n",
    "\\end{bmatrix}$\n",
    "9.\n",
    "$\\mathbf{bb^T} =  \\begin{bmatrix}\n",
    "1 & -3 & -8 \\\\\n",
    "-3 & 9 & 24 \\\\\n",
    "-8 & 24 & 64 \n",
    "\\end{bmatrix}$\n",
    "10.\n",
    "$\\mathbf{b + c^T} =  \\begin{bmatrix}\n",
    "3 & -4 & 5 \\\\\n",
    " 7& 0 & 9 \\\\\n",
    "12 & 5 & 14 \n",
    "\\end{bmatrix}$\n",
    "11. Cannot be computed. There is a dimensional mismatch. 1x3 vs 1x3. \n",
    "\n",
    "12.\n",
    "$\\mathbf{A^{-1} b} =  \\begin{bmatrix}\n",
    "6 \\\\\n",
    "4 \\\\\n",
    "-5 \n",
    "\\end{bmatrix}$\n",
    "13.\n",
    "$\\mathbf{A \\circ\\mathbf{A}} =  \\begin{bmatrix}\n",
    "1 & 4 & 9 \\\\\n",
    "4 & 16 & 25 \\\\\n",
    "9 & 25 & 36 \n",
    "\\end{bmatrix}$\n",
    "14.\n",
    "$\\mathbf{b \\circ\\mathbf{c}} =  \\begin{bmatrix}\n",
    "-4\\\\\n",
    "-9 \\\\\n",
    "48  \n",
    "\\end{bmatrix}$"
   ]
  },
  {
   "cell_type": "markdown",
   "metadata": {},
   "source": [
    "## 7\n",
    "**[8 points]** **Eigenvectors and eigenvalues**. Eigenvectors and eigenvalues are useful for some machine learning algorithms, but the concepts take time to solidly grasp. For an intuitive review of these concepts, explore this [interactive website at Setosa.io](http://setosa.io/ev/eigenvectors-and-eigenvalues/). Also, the series of linear algebra videos by Grant Sanderson of 3Brown1Blue are excellent and can be viewed on youtube [here](https://www.youtube.com/playlist?list=PLZHQObOWTQDPD3MizzM2xVFitgF8hE_ab).\n",
    "\n",
    "1. Calculate the eigenvalues and corresponding eigenvectors of matrix $\\mathbf{A}$ above, from the last question.\n",
    "2. Choose one of the eigenvector/eigenvalue pairs, $\\mathbf{v}$ and $\\lambda$, and show that $\\mathbf{A} \\mathbf{v} = \\lambda \\mathbf{v}$. Also show that this relationship extends to higher orders: $\\mathbf{A} \\mathbf{A} \\mathbf{v} = \\lambda^2 \\mathbf{v}$\n",
    "3. Show that the eigenvectors are orthogonal to one another (e.g. their inner product is zero). This is true for real, symmetric matrices."
   ]
  },
  {
   "cell_type": "code",
   "execution_count": null,
   "metadata": {},
   "outputs": [],
   "source": []
  },
  {
   "cell_type": "code",
   "execution_count": 27,
   "metadata": {},
   "outputs": [
    {
     "name": "stdout",
     "output_type": "stream",
     "text": [
      "[11.34481428 -0.51572947  0.17091519]\n",
      "[[-0.32798528 -0.73697623  0.59100905]\n",
      " [-0.59100905 -0.32798528 -0.73697623]\n",
      " [-0.73697623  0.59100905  0.32798528]]\n",
      "[-3.72093206 -6.70488789 -8.36085845]\n",
      "[-3.72093206 -6.70488789 -8.36085845]\n",
      "[-42.2132832  -76.06570795 -94.85238636]\n",
      "[-42.2132832  -76.06570795 -94.85238636]\n",
      "-2.220446049250313e-16\n",
      "-4.440892098500626e-16\n",
      "-1.0547118733938987e-15\n"
     ]
    }
   ],
   "source": [
    "#Python implementation\n",
    "from numpy import linalg as LA \n",
    "1.\n",
    "a = np.array([[1,2,3],[2,4,5],[3,5,6]]) #define our matrix \n",
    "values, vectors = LA.eig(a)\n",
    "print(values)\n",
    "\n",
    "print(vectors)\n",
    "\n",
    "2. #Selecting the first eigenvalue and eigenvector pair \n",
    "\n",
    "value_1 = values[0]\n",
    "vector_1 = vectors[:,0]\n",
    "\n",
    "#Code showing the matrix multiplied by the eigenvector is equal  to the eigenvector multiplied by the corresponding eigenvalue. \n",
    "print(a@vector_1) #matrix by vector\n",
    "print(value_1*vector_1) #value by vector\n",
    "\n",
    "#Extending the previous result to higher orders (^2)\n",
    "\n",
    "print(a@a@vector_1)\n",
    "print(value_1*value_1*vector_1)\n",
    "\n",
    "3. #Show that eigenvectors are orthogonal to eachother. A set of vectors are orthogonal if the dot prouct of each pair is zero. This appears to be true.\n",
    "\n",
    "#saving remaining vectors\n",
    "vector_2 = vectors[:,1] \n",
    "vector_3 = vectors[:,2]\n",
    "\n",
    "#computing dot products for each pair of vectors. All of them are '0'.\n",
    "print(np.dot(vector_1, vector_2))\n",
    "print(np.dot(vector_1, vector_3))\n",
    "print(np.dot(vector_3, vector_2))\n",
    "\n"
   ]
  },
  {
   "cell_type": "markdown",
   "metadata": {},
   "source": [
    "**ANSWER**\n",
    "1. We want to compute the eigenvalues and eigenvectors of the following matrix:\n",
    "$\\mathbf{A} =  \\begin{bmatrix}\n",
    "1 & 2 & 3 \\\\\n",
    "2 & 4 & 5 \\\\\n",
    "3 & 5 & 6 \n",
    "\\end{bmatrix}\n",
    "$\n",
    "\n",
    "We know that for a matrix $A$ with an  eigenvalue $\\lambda$ and eigenvector $v$:\n",
    "\n",
    "$ Av = \\lambda v$\n",
    "\n",
    "It follows that:\n",
    "\n",
    "$ Av - \\lambda v = 0$\n",
    "\n",
    "Since $Iv = v$ we can rewrite the previous equation as:\n",
    "\n",
    "$ Av - \\lambda v = (A - \\lambda I)v = 0$\n",
    "\n",
    "If we take our eigenvector $v$ to be non-zero then it follows that the matrix $(A-\\lambda I)$ must be singular. This means that $det(A-\\lambda I) = 0$. \n",
    "We can solve this characteristic equation in order to determine the eigenvalues and eigenvectors of the matrix. \n",
    "\n",
    "$\\mathbf{A - \\lambda I} =  \\begin{bmatrix}\n",
    "(1 - \\lambda) & 2 & 3 \\\\\n",
    "2 & (4 - \\lambda) & 5 \\\\\n",
    "3 & 5 & (6 - \\lambda)\n",
    "\\end{bmatrix}$\n",
    "\n",
    "\n",
    "The characteristic equation of this matrix is $(1-\\lambda)[(4-\\lambda)(6-\\lambda)-(5 \\cdot 5)] - 2 [2(6- \\lambda)- (5\\cdot 3)]+ 3[(2\\cdot5) - 3(4-\\lambda)] =  -\\lambda^3 +11\\lambda^2+4\\lambda-1$\n",
    "\n",
    "We can solve the characteristic equation for $\\lambda$ to get the eigenvalues. The solutions are $\\lambda_1 = -.51573, \\lambda_2 = .17092, \\lambda_3 = 11.34$ \n",
    "Now that we have obtained the eigenvalues we must solve for the eigenvectors. \n",
    "\n",
    "I obtained the following eigenvectors using numpy:\n",
    "\n",
    "$\\mathbf{Eigenvectors} =  \\begin{bmatrix}\n",
    "-0.32798528 & -0.73697623 & 0.59100905\\\\\n",
    " -0.59100905 & -0.32798528 &-0.73697623\\\\\n",
    " -0.73697623 & 0.59100905 & 0.32798528\n",
    "\\end{bmatrix}$\n",
    "\n",
    "2. We can determine if 𝐀𝐯=𝜆𝐯 is true by plugging in an eigenvalue and eigenvector combination. For this example I will use the first eigenvector/eigenvalue pair. \n",
    "\n",
    "$\\lambda = 13.44814$\n",
    "\n",
    "\n",
    "$\\mathbf{A} =  \\begin{bmatrix}\n",
    "1 & 2 & 3 \\\\\n",
    "2 & 4 & 5 \\\\\n",
    "3 & 5 & 6 \n",
    "\\end{bmatrix}$\n",
    "\n",
    "$\\mathbf{v} =  \\begin{bmatrix}\n",
    "-0.32798528 \\\\\n",
    "-0.59100905 \\\\\n",
    "-0.73697623\n",
    "\\end{bmatrix}$\n",
    "\n",
    "$\\mathbf{Av} =  \\begin{bmatrix}\n",
    "-3.72093206 \\\\\n",
    "-6.70488789 \\\\\n",
    "-8.36085845\n",
    "\\end{bmatrix}$\n",
    "\n",
    "$\\mathbf{\\lambda v} =  \\begin{bmatrix}\n",
    "-3.72093206 \\\\\n",
    "-6.70488789 \\\\\n",
    "-8.36085845\n",
    "\\end{bmatrix}$\n",
    "\n",
    "$Av$ and $\\lambda v$ produce the same values. We can now extend this to the second-order case. \n",
    "\n",
    "$\\mathbf{AAv} =  \\begin{bmatrix}\n",
    "-42.2132832  \\\\\n",
    "-76.06570795 \\\\\n",
    "-94.85238636\n",
    "\\end{bmatrix}$\n",
    "\n",
    "$\\mathbf{\\lambda^2 v} =  \\begin{bmatrix}\n",
    "-42.2132832 \\\\ \n",
    "-76.06570795 \\\\\n",
    "-94.85238636\n",
    "\\end{bmatrix}$\n",
    "\n",
    "3. In the previous calculation I showed the dot product of each pair of eigenvectors is zero. This means this set of vectors are orthogonal. "
   ]
  },
  {
   "cell_type": "markdown",
   "metadata": {},
   "source": [
    "# Numerical Programming"
   ]
  },
  {
   "cell_type": "markdown",
   "metadata": {},
   "source": [
    "## 8\n",
    "**[10 points]** Loading data and gathering insights from a real dataset\n",
    "\n",
    "**Data**. The data for this problem can be found in the `data` subfolder in the `assignments` folder on [github](https://github.com/kylebradbury/ids705). The filename is `egrid2016.xlsx`. This dataset is the Environmental Protection Agency's (EPA) [Emissions & Generation Resource Integrated Database (eGRID)](https://www.epa.gov/energy/emissions-generation-resource-integrated-database-egrid) containing information about all power plants in the United States, the amount of generation they produce, what fuel they use, the location of the plant, and many more quantities. We'll be using a subset of those data.\n",
    "\n",
    "The fields we'll be using include:\t\t\t\t\t\n",
    "    \n",
    "|field    |description|\n",
    "|:-----   |:-----|\n",
    "|SEQPLT16 |eGRID2016 Plant file sequence number (the index)| \n",
    "|PSTATABB |Plant state abbreviation|\n",
    "|PNAME    |Plant name |\n",
    "|LAT      |Plant latitude |\n",
    "|LON      |Plant longitude|\n",
    "|PLPRMFL  |Plant primary fuel |\n",
    "|CAPFAC   |Plant capacity factor |\n",
    "|NAMEPCAP |Plant nameplate capacity (Megawatts MW)|\n",
    "|PLNGENAN |Plant annual net generation (Megawatt-hours MWh)|\n",
    "|PLCO2EQA |Plant annual CO2 equivalent emissions (tons)|\n",
    "\n",
    "For more details on the data, you can refer to the [eGrid technical documents](https://www.epa.gov/sites/production/files/2018-02/documents/egrid2016_technicalsupportdocument_0.pdf). For example, you may want to review page 45 and the section \"Plant Primary Fuel (PLPRMFL)\", which gives the full names of the fuel types including WND for wind, NG for natural gas, BIT for Bituminous coal, etc.\n",
    "\n",
    "There also are a couple of \"gotchas\" to watch out for with this dataset:\n",
    "- The headers are on the second row and you'll want to ignore the first row (they're more detailed descriptions of the headers).\n",
    "- NaN values represent blanks in the data. These will appear regularly in real-world data, so getting experience working with it will be important.\n",
    "\n",
    "**Your objective**. For this dataset, your goal is answer the following questions about electricity generation in the United States:\n",
    "\n",
    "**(a)** Which plant has generated the most energy (measured in MWh)?\n",
    "\n",
    "**(b)** What is the name of the northern-most power plant in the United States?\n",
    "\n",
    "**(c)** What is the state where the northern-most power plant in the United States is located?\n",
    "\n",
    "**(d)** Plot a histogram of the amount of energy produced by each fuel for the plant. \n",
    "\n",
    "**(e)** From the plot in (e), which fuel for generation produces the most energy (MWh) in the United States?"
   ]
  },
  {
   "cell_type": "code",
   "execution_count": 7,
   "metadata": {},
   "outputs": [
    {
     "data": {
      "image/png": "[encoded data removed]",
      "text/plain": [
       "<Figure size 432x288 with 1 Axes>"
      ]
     },
     "metadata": {
      "needs_background": "light"
     },
     "output_type": "display_data"
    },
    {
     "name": "stdout",
     "output_type": "stream",
     "text": [
      "(a) The plant that produced the most energy is the Palo Verde plant.\n",
      "(b) The northern-most plant is the Barrow plant.\n",
      "(c) The northern-most plant is in AK.\n",
      "(e) The fuel that produces the most energy is NG.\n"
     ]
    }
   ],
   "source": [
    "import pandas as pd \n",
    "import matplotlib.pyplot as plt\n",
    "#Reading in the dataset\n",
    "df = pd.read_excel('egrid2016.xlsx', header=1) #Set header to 1 to ignore first row\n",
    "df.head() #display first few rows\n",
    "\n",
    "#Finding plant with the most energy generation \n",
    "max_energy = df.loc[df['PLNGENAN'].idxmax()] \n",
    "\n",
    "#Finding northern-most power plant\n",
    "northern_most = df.loc[df['LAT'].idxmax()] #Latitude refers to the north-south values. Maximum latitude corresponds to the northern-most point.\n",
    "\n",
    "#Producing bar chart of energy values by each fuel. \n",
    "grouped_fuel = df.groupby('PLPRMFL', as_index = False).sum().sort_values('PLNGENAN', ascending=False) #Sum of all values grouped by fuel. \n",
    "fuel_types = grouped_fuel['PLPRMFL'] #Getting fuel types\n",
    "energy_prod = grouped_fuel['PLNGENAN'] #Getting energy values for each fuel type.  \n",
    "plt.bar(fuel_types, energy_prod) #Generate plot with colored bars. \n",
    "plt.xticks(rotation=90)\n",
    "plt.title('Annual Energy Production in MWh by Fuel Type')\n",
    "plt.xlabel('Fuel Type')\n",
    "plt.ylabel('Annual Energy Production in MWh')\n",
    "plt.show()\n",
    "\n",
    "#Finding fuel that produces most energy.\n",
    "max_fuel = grouped_fuel.loc[grouped_fuel['PLNGENAN'].idxmax()]\n",
    "#Answers to questions \n",
    "print('(a) The plant that produced the most energy is the {} plant.'.format(str(max_energy['PNAME'])))\n",
    "print('(b) The northern-most plant is the {} plant.'.format(str(northern_most['PNAME'])))\n",
    "print('(c) The northern-most plant is in {}.'.format(str(northern_most['PSTATABB'])))\n",
    "print('(e) The fuel that produces the most energy is {}.'.format(str(max_fuel['PLPRMFL'])))"
   ]
  },
  {
   "cell_type": "markdown",
   "metadata": {},
   "source": [
    "**ANSWER**"
   ]
  },
  {
   "cell_type": "markdown",
   "metadata": {},
   "source": [
    "## 9\n",
    "**[8 points]** Speed comparison between vectorized and non-vectorized code. Begin by creating an array of 10 million random numbers using the numpy random.randn module. Compute the sum of the squares first in a for loop, then using Numpy's `dot` module. Time how long it takes to compute each and report the results and report the output. How many times faster is the vectorized code than the for loop approach?\n",
    "\n",
    "*Note: all code should be well commented, properly formatted, and your answers should be output using the `print()` function as follows (where the # represents your answers, to a reasonable precision):\n",
    "\n",
    "`Time [sec] (non-vectorized): ######`\n",
    "\n",
    "`Time [sec] (vectorized):     ######`\n",
    "\n",
    "`The vectorized code is ##### times faster than the vectorized code`"
   ]
  },
  {
   "cell_type": "markdown",
   "metadata": {},
   "source": [
    "**ANSWER**"
   ]
  },
  {
   "cell_type": "code",
   "execution_count": 7,
   "metadata": {},
   "outputs": [
    {
     "name": "stdout",
     "output_type": "stream",
     "text": [
      "Time [sec] (non-vectorized):3.5812790393829346\n",
      "Time [sec] (vectorized):0.0009989738464355469\n",
      "The vectorized code is 3584.9577565632458 times faster than the non-vectorized code\n"
     ]
    }
   ],
   "source": [
    "\n",
    "import time\n",
    "#Generating 10 million random numbers\n",
    "rand_nums = np.random.randn(10000000)\n",
    "\n",
    "\n",
    "#Defining looping sum function\n",
    "def loop_sum_sqr(num):\n",
    "    k=0\n",
    "    for i in num:\n",
    "        k += (i*i) # loop over each element and accumulate squares \n",
    "    return(k)\n",
    "    \n",
    "#Defining numpy sum function\n",
    "\n",
    "def numpy_sum_sqr(num):\n",
    "    return(np.dot(num,num))\n",
    "\n",
    "\n",
    "#Timing looping sum/non-vectorized function\n",
    "stime_loop = time.time() #start time\n",
    "loop_sum_sqr(rand_nums)\n",
    "loop_time = (time.time()- stime_loop) #start time - end time\n",
    "\n",
    "#Timing numpy sum/vectorized function\n",
    "stime_np = time.time() #start time\n",
    "numpy_sum_sqr(rand_nums)\n",
    "np_time = (time.time()- stime_np)#start time - end time\n",
    "\n",
    "#printing out non-vectorized time\n",
    "print ('Time [sec] (non-vectorized):' + str(loop_time))\n",
    "           \n",
    "#Printing out numpy time \n",
    "\n",
    "print('Time [sec] (vectorized):' + str(np_time))\n",
    "\n",
    "#Printing speed difference between two times\n",
    "\n",
    "print('The vectorized code is {} times faster than the non-vectorized code.'.format(loop_time/np_time))\n"
   ]
  },
  {
   "cell_type": "markdown",
   "metadata": {},
   "source": [
    "## 10\n",
    "**[10 points]** One popular Agile development framework is Scrum (a paradigm recommended for data science projects). It emphasizes the continual evolution of code for projects, becoming progressively better, but starting with a quickly developed minimum viable product. This often means that code written early on is not optimized, and that's a good thing - it's best to get it to work first before optimizing. Imagine that you wrote the following code during a sprint towards getting an end-to-end system working. Vectorize the following code and show the difference in speed between the current implementation and a vectorized version.\n",
    "\n",
    "The function below computes the function $f(x,y) = x^2 - 2 y^2$ and determines whether this quantity is above or below a given threshold, `thresh=0`. This is done for $x,y \\in \\{-4,4\\}$, over a 2,000-by-2,000 grid covering that domain.\n",
    "\n",
    "(a) Vectorize this code and demonstrate (as in the last exercise) the speed increase through vectorization and (b) plot the resulting data - both the function $f(x,y)$ and the thresholded output - using [`imshow`](https://matplotlib.org/api/_as_gen/matplotlib.pyplot.imshow.html?highlight=matplotlib%20pyplot%20imshow#matplotlib.pyplot.imshow) from `matplotlib`.\n",
    "\n",
    "*Hint: look at the `numpy` [`meshgrid`](https://docs.scipy.org/doc/numpy-1.13.0/reference/generated/numpy.meshgrid.html) documentation*"
   ]
  },
  {
   "cell_type": "code",
   "execution_count": 28,
   "metadata": {},
   "outputs": [
    {
     "name": "stdout",
     "output_type": "stream",
     "text": [
      "Time [sec] (non-vectorized):22.272242069244385\n",
      "Time [sec] (vectorized):0.1611039638519287\n",
      "The vectorized code is 138.24763548161292 times faster than the non-vectorized code.\n"
     ]
    },
    {
     "data": {
      "image/png": "[encoded data removed]",
      "text/plain": [
       "<Figure size 432x288 with 2 Axes>"
      ]
     },
     "metadata": {
      "needs_background": "light"
     },
     "output_type": "display_data"
    }
   ],
   "source": [
    "#**ANSWER**\n",
    "import matplotlib.pyplot as plt\n",
    "import matplotlib.cm as cm\n",
    "import time\n",
    "import numpy as np\n",
    "\n",
    "#Creating values\n",
    "nvalues = 2000\n",
    "xvalues = np.linspace(-4,4,nvalues)\n",
    "yvalues = np.linspace(-4,4,nvalues)\n",
    "thresh  = 0\n",
    "\n",
    "# Nonvectorized implementation\n",
    "t0 = time.time()\n",
    "f = np.zeros((nvalues,nvalues))\n",
    "f_thresholded = np.zeros((nvalues,nvalues))\n",
    "for ix, x in enumerate(xvalues):\n",
    "    for iy, y in enumerate(yvalues):\n",
    "        f[ix,iy]             = x**2 - 2 * y**2\n",
    "        f_thresholded[ix,iy] = f[ix,iy] > thresh\n",
    "t1 = time.time()\n",
    "time_nonvectorized = t1 - t0\n",
    "\n",
    "# Vectorized implementation\n",
    "t0_vec = time.time() #Initial time\n",
    "yy, xx = np.meshgrid(yvalues, xvalues) #Create matrix from vectors\n",
    "    \n",
    "z = np.multiply(xx, xx) - np.multiply(2, np.multiply(yy,yy)) #Apply function to combinations of x and y values. \n",
    "z_thresh = np.greater(z,0) #Check if each element of the matrix is greater than zero. \n",
    "t1_vec = time.time() #Final time\n",
    "time_vectorized = t1_vec-t0_vec #Calculating time it takes for function to run\n",
    "\n",
    "\n",
    "# Vectorized speed performance results\n",
    "print ('Time [sec] (non-vectorized):' + str(time_nonvectorized))\n",
    "           \n",
    "\n",
    "print('Time [sec] (vectorized):' + str(time_vectorized))\n",
    "\n",
    "\n",
    "print('The vectorized code is {} times faster than the non-vectorized code.'.format(time_nonvectorized/time_vectorized))\n",
    "\n",
    "#Plot the function f(x, y)\n",
    "fig, axs = plt.subplots(1, 2, constrained_layout=True) #Creating figure to hold both graphs.\n",
    "axs[0].set_title('Raw Function Output')\n",
    "axs[0].imshow(z, origin='lower')\n",
    "fig.suptitle('Graphs of Function Output', fontsize=16) #Overall title\n",
    "\n",
    "axs[1].set_title('Thresholded function output')\n",
    "axs[1].imshow(z_thresh, origin='lower')\n",
    "\n",
    "plt.show()\n",
    "\n"
   ]
  },
  {
   "cell_type": "markdown",
   "metadata": {},
   "source": [
    "## 11\n",
    "**[10 points]** This exercise will walk through some basic numerical programming exercises.\n",
    "1. Synthesize $n=10^4$ normally distributed data points with mean $\\mu=2$ and a standard deviation of $\\sigma=1$. Call these observations from a random variable $X$, and call the vector of observations that you generate, $\\textbf{x}$.\n",
    "2. Calculate the mean and standard deviation of $\\textbf{x}$ to validate (1) and provide the result to a precision of four significant figures.\n",
    "3. Plot a histogram of the data in $\\textbf{x}$ with 30 bins\n",
    "4. What is the 90th percentile of $\\textbf{x}$? The 90th percentile is the value below which 90% of observations can be found.\n",
    "5. What is the 99th percentile of $\\textbf{x}$?\n",
    "6. Now synthesize $n=10^4$ normally distributed data points with mean $\\mu=0$ and a standard deviation of $\\sigma=3$. Call these observations from a random variable $Y$, and call the vector of observations that you generate, $\\textbf{y}$.\n",
    "7. Create a new figure and plot the histogram of the data in $\\textbf{y}$ on the same axes with the histogram of $\\textbf{x}$, so that both histograms can be seen and compared.\n",
    "8. Using the observations from $\\textbf{x}$ and $\\textbf{y}$, estimate $E[XY]$"
   ]
  },
  {
   "cell_type": "code",
   "execution_count": 29,
   "metadata": {},
   "outputs": [
    {
     "name": "stdout",
     "output_type": "stream",
     "text": [
      "The mean of the data x is 2.00210794126902.\n",
      "The standard deviation of the data x is 0.9818595154849585.\n"
     ]
    },
    {
     "data": {
      "image/png": "[encoded data removed]",
      "text/plain": [
       "<Figure size 432x288 with 1 Axes>"
      ]
     },
     "metadata": {
      "needs_background": "light"
     },
     "output_type": "display_data"
    },
    {
     "name": "stdout",
     "output_type": "stream",
     "text": [
      "The 90th percentile of the data x is 3.2503314196512467\n",
      "The 99th percentile of the data x is 4.326496884005777\n"
     ]
    },
    {
     "data": {
      "image/png": "[encoded data removed]",
      "text/plain": [
       "<Figure size 432x288 with 3 Axes>"
      ]
     },
     "metadata": {
      "needs_background": "light"
     },
     "output_type": "display_data"
    },
    {
     "name": "stdout",
     "output_type": "stream",
     "text": [
      "The expected value of [XY] is -0.0743424236591.\n"
     ]
    }
   ],
   "source": [
    "#**ANSWER**\n",
    "import numpy as np\n",
    "import matplotlib.pyplot as plt\n",
    "# 1. Generating normally distributed data points with mean 2 and standard deviation 1.\n",
    "x = np.random.normal(2, 1, 10000)\n",
    "\n",
    "# 2. Calculating mean and standard deviation of generated data\n",
    "print('The mean of the data x is {}.'.format(np.mean(x)))\n",
    "print('The standard deviation of the data x is {}.'.format(np.std(x)))\n",
    "\n",
    "# 3. Plotting histogram\n",
    "plt.hist(x, bins=30,  label = 'Histogram of x')\n",
    "plt.title('Histogram of x')\n",
    "plt.show()\n",
    "\n",
    "# 4. Calculating 90th percentile of x\n",
    "print('The 90th percentile of the data x is {}'.format(np.percentile(x, 90)))\n",
    "\n",
    "\n",
    "# 5.Calculating 99th percentile of x\n",
    "print('The 99th percentile of the data x is {}'.format(np.percentile(x, 99)))\n",
    "\n",
    "# 6. Generating normally distributed data points with mean 0 and standard deviation 3.\n",
    "y = np.random.normal(0, 3, 10000)\n",
    "\n",
    "# 7. Plotting both histograms on the same figure. \n",
    "\n",
    "\n",
    "fig, axs = plt.subplots(1, 3, constrained_layout=True) #Creating figure to hold both graphs.\n",
    "axs[0].hist(x)\n",
    "axs[0].set_title('Histogram of x') #Plot x alone\n",
    "fig.suptitle('Graph of x and y Distributions', fontsize=16) #Overall title\n",
    "\n",
    "axs[1].hist(y) #Plot y alone\n",
    "axs[1].set_title('Histogram of y')\n",
    "axs[2].hist(y, alpha=0.5, label='y')\n",
    "axs[2].hist(x, alpha=0.5, label='x') #Plot both on same graph. Make somewhat transparent for easier visibility.\n",
    "axs[2].set_title('Histogram of x and y')\n",
    "axs[2].legend(loc = 'best') #add legend\n",
    "\n",
    "plt.show()\n",
    "\n",
    "# 8. Estimating E[XY]. The expected value of the product of two independent random variables is equal to the product of their means.\n",
    "\n",
    "z = np.mean(x)*np.mean(y)\n",
    "\n",
    "print('The expected value of [XY] is {}.'.format(z))\n",
    "\n",
    "\n",
    " "
   ]
  },
  {
   "cell_type": "markdown",
   "metadata": {},
   "source": [
    "# Version Control via Git"
   ]
  },
  {
   "cell_type": "markdown",
   "metadata": {},
   "source": [
    "## 12\n",
    "**[1 point]** You will need to use Git to submit assignments and in the course projects and is generally a version control and collaboration tool. You can even use some Git repositories (e.g. Github) as hosts for website, such as with the [course website](https://kylebradbury.github.io/ids705/index.html). \n",
    "\n",
    "Complete the [Atlassian Git tutorial](https://www.atlassian.com/git/tutorials/what-is-version-control), specifically the following listed sections. Try each concept that's presented. For this tutorial, instead of using BitBucket as your remote repository host, you may use your preferred platform such as [Github](https://github.com/) or [Duke's Gitlab](https://gitlab.oit.duke.edu/users/sign_in).\n",
    "1. [What is version control](https://www.atlassian.com/git/tutorials/what-is-version-control)\n",
    "2. [What is Git](https://www.atlassian.com/git/tutorials/what-is-git)\n",
    "3. [Install Git](https://www.atlassian.com/git/tutorials/install-git)\n",
    "4. [Setting up a repository](https://www.atlassian.com/git/tutorials/install-git)\n",
    "5. [Saving changes](https://www.atlassian.com/git/tutorials/saving-changes)\n",
    "6. [Inspecting a repository](https://www.atlassian.com/git/tutorials/inspecting-a-repository)\n",
    "7. [Undoing changes](https://www.atlassian.com/git/tutorials/undoing-changes)\n",
    "8. [Rewriting history](https://www.atlassian.com/git/tutorials/rewriting-history)\n",
    "9. [Syncing](https://www.atlassian.com/git/tutorials/syncing)\n",
    "10. [Making a pull request](https://www.atlassian.com/git/tutorials/making-a-pull-request)\n",
    "11. [Using branches](https://www.atlassian.com/git/tutorials/using-branches)\n",
    "12. [Comparing workflows](https://www.atlassian.com/git/tutorials/comparing-workflows)\n",
    "\n",
    "I also have created two videos on the topic to help you understand some of these concepts: [Git basics](https://www.youtube.com/watch?v=fBCwfoBr2ng) and a [step-by-step tutorial](https://www.youtube.com/watch?v=nH7qJHx-h5s).\n",
    "\n",
    "For your answer, affirm that you *either* completed the tutorial or have previous experience with all of the concepts above. Do this by typing your name below and selecting the situation that applies from the two options in brackets."
   ]
  },
  {
   "cell_type": "markdown",
   "metadata": {},
   "source": [
    "**ANSWER**\n",
    "\n",
    "*I, [Joseph Krinke], affirm that I have [**I have previous experience that covers all the content in this tutorial**]*"
   ]
  },
  {
   "cell_type": "markdown",
   "metadata": {},
   "source": [
    "# Exploratory Data Analysis\n",
    "## 13\n",
    "**[20 points]** Here you'll bring together some of the individual skills that you demonstrated above and create a Jupyter notebook based blog post on data analysis.\n",
    "\n",
    "1. Find a dataset that interests you and relates to a question or problem that you find intriguing\n",
    "2. Using a Jupyter notebook, describe the dataset, the source of the data, and the reason the dataset was of interest.\n",
    "3. Check the data and see if they need to be cleaned: are there missing values? Are there clearly erroneous values? Do two tables need to be merged together? Clean the data so it can be visualized.\n",
    "3. Plot the data, demonstrating interesting features that you discover. Are there any relationships between variables that were surprising or patterns that emerged? Please exercise creativity and curiosity in your plots.\n",
    "4. What insights are you able to take away from exploring the data? Is there a reason why analyzing the dataset you chose is particularly interesting or important? Summarize this as if your target audience was the readership of a major news organization - boil down your findings in a way that is accessible, but still accurate.\n",
    "\n",
    "Here your analysis will evaluated based on:\n",
    "1. Data cleaning: did you look for and work to resolve issues in the data?\n",
    "2. Quality of data exploration: did you provide plots demonstrating interesting aspects of the data?\n",
    "3. Interpretation: Did you clearly explain your insights? Restating the data, alone, is not interpretation.\n",
    "5. Professionalism: Was this work done in a way that exhibits professionalism through clarity, organization, high quality figures and plots, and meaningful descriptions?"
   ]
  },
  {
   "cell_type": "markdown",
   "metadata": {},
   "source": [
    "**ANSWER**\n",
    "\n",
    "As a graduate student, I often find myself turning to a cup of coffee for a boost of energy to help me complete my work. As my coffee consumption has increased, I have become more aware of the taste and quality of what I am drinking. I now examine Yelp and Google reviews before I select a coffeeshop to study in so I am sure I get the best cup. Unfortunately, however, my palate is not refined enough to identify the specific aspects of a given coffee that make it good or bad. Another related problem is the selection of beans or grounds to brew at home. The main criteria I use to select coffee at the grocery store are only tangentally related to taste- these factors include things like brand name, package design, and price. It would be interesting to understand what characteristics of a cup of coffee combine together to make it delicious, and what package information can be used to identify quality coffee.\n",
    "\n",
    "To address such questions I analyzed a coffee quality database created by the Coffee Quality institute. This data is a compilation of the institute's reviews of 1312 arabica bean varieties and other information related to each bean type. This information includes quality measures (aroma, flavor, aftertaste, etc.) and other data (altitude of growth, moisture content, processing method). Each observation is a single review of a coffee type. It is important to note that each review is not necessarily conducted by the same reviewer. However, all reviews were scored using the Coffee Quality Institute's standardized method called the Q grader. I ultimately decided to examine three different factors that may be related to coffee quality as measured by the total cup points (out of 100 points). The first factor is altitude of growth; many believe that the reduced growing speed caused by lower oxygen levels at high altitudes leads to more complex flavors. The second set of aspects I decided to look at are the individual flavor elements of the coffee. The flavor elements are sweetness, aroma, flavor, aftertaste, acidity, body, balance, uniformity, and moisture. Finally, I also examined the impact of different processing methods."
   ]
  },
  {
   "cell_type": "markdown",
   "metadata": {},
   "source": [
    "# Flavor Elements"
   ]
  },
  {
   "cell_type": "code",
   "execution_count": 21,
   "metadata": {},
   "outputs": [
    {
     "data": {
      "image/png": "[encoded data removed]",
      "text/plain": [
       "<Figure size 432x288 with 2 Axes>"
      ]
     },
     "metadata": {
      "needs_background": "light"
     },
     "output_type": "display_data"
    },
    {
     "data": {
      "image/png": "[encoded data removed]",
      "text/plain": [
       "<Figure size 432x288 with 1 Axes>"
      ]
     },
     "metadata": {
      "needs_background": "light"
     },
     "output_type": "display_data"
    },
    {
     "data": {
      "image/png": "[encoded data removed]",
      "text/plain": [
       "<Figure size 432x288 with 1 Axes>"
      ]
     },
     "metadata": {
      "needs_background": "light"
     },
     "output_type": "display_data"
    },
    {
     "data": {
      "image/png": "[encoded data removed]",
      "text/plain": [
       "<Figure size 432x288 with 1 Axes>"
      ]
     },
     "metadata": {
      "needs_background": "light"
     },
     "output_type": "display_data"
    }
   ],
   "source": [
    "import pandas as pd\n",
    "import statsmodels.api as sm\n",
    "from statsmodels.formula.api import ols\n",
    "import matplotlib.pyplot as plt\n",
    "import seaborn as sns\n",
    "\n",
    "cdf = pd.read_csv('arabica_data_cleaned.csv') #Reading data\n",
    "\n",
    "#Selecting only the columns of interest\n",
    "subset = ['Processing.Method', 'Aroma','Flavor','Aftertaste','Acidity','Body','Sweetness','Balance','Uniformity','Clean.Cup', 'altitude_high_meters','Total.Cup.Points','Moisture', 'altitude_mean_meters','altitude_low_meters']\n",
    "cdf = cdf[subset]\n",
    "\n",
    "\n",
    "#removing NaN and missing\n",
    "cdf = cdf.dropna( axis=0, how='any', thresh=None, subset=None, inplace=False)\n",
    "\n",
    "#Creating correlation matrix\n",
    "cnt_var = cdf.drop(columns = ['Processing.Method', 'altitude_high_meters', 'altitude_mean_meters', 'altitude_low_meters']) #Get continuous variables only\n",
    "corr = cnt_var.corr() #Generate correlation matrix\n",
    "\n",
    "#Create heatmap from correlation matrix\n",
    "hmp = sns.heatmap(\n",
    "    corr, \n",
    "    vmin=-1, vmax=1, center=0,\n",
    "    cmap=sns.diverging_palette(20, 220, n=200),\n",
    "    square=True)\n",
    "#Create and rotate labels for easier reading\n",
    "hmp.set_xticklabels(\n",
    "    hmp.get_xticklabels(),\n",
    "    rotation=45,\n",
    "    horizontalalignment='right');\n",
    "plt.title('Correlation Between Flavor Elements and Quality')\n",
    "\n",
    "\n",
    "# Create scatterplots for top 3 correlated factors: flavor, aftertaste, and balance. \n",
    "\n",
    "fig1= plt.figure() #Creating figures to hold both graphs\n",
    "fig2 = plt.figure()\n",
    "fig3 = plt.figure()\n",
    "ax1 = fig1.add_subplot(1, 1, 1)\n",
    "ax2 = fig2.add_subplot(1, 1, 1)\n",
    "ax3 = fig3.add_subplot(1, 1, 1)\n",
    "#Create individual series for each variable\n",
    "flavor = cdf['Flavor']\n",
    "aftertaste = cdf['Aftertaste']\n",
    "balance = cdf['Balance']\n",
    "quality = cdf['Total.Cup.Points']\n",
    "#Flavor graph\n",
    "ax1.set_title('Flavor and Coffee Quality')\n",
    "ax1.scatter(flavor, quality, color = 'red')\n",
    "ax1.set_xlabel('Flavor')\n",
    "ax1.set_ylabel('Quality Score')\n",
    "\n",
    "#Aftertaste graph\n",
    "ax2.set_title('Aftertaste and Coffee Quality')\n",
    "ax2.scatter(aftertaste, quality)\n",
    "ax2.set_xlabel('Aftertaste')\n",
    "ax2.set_ylabel('Quality Score')\n",
    "\n",
    "#Balance graph\n",
    "ax3.set_title('Balance and Coffee Quality')\n",
    "ax3.scatter(balance, quality, color = 'green')\n",
    "ax3.set_xlabel('Balance')\n",
    "ax3.set_ylabel('Quality Score')\n",
    "                 \n",
    "plt.show()\n"
   ]
  },
  {
   "cell_type": "markdown",
   "metadata": {},
   "source": [
    "# Processing Method"
   ]
  },
  {
   "cell_type": "code",
   "execution_count": 22,
   "metadata": {},
   "outputs": [
    {
     "name": "stdout",
     "output_type": "stream",
     "text": [
      "Washed / Wet                 738\n",
      "Natural / Dry                179\n",
      "Semi-washed / Semi-pulped     53\n",
      "Other                         25\n",
      "Pulped natural / honey        10\n",
      "Name: Processing.Method, dtype: int64\n",
      "                                sum_sq      df         F    PR(>F)\n",
      "C(Q(\"Processing.Method\"))   125.848971     4.0  4.615319  0.001073\n",
      "Residual                   6816.916058  1000.0       NaN       NaN\n"
     ]
    },
    {
     "data": {
      "text/plain": [
       "<matplotlib.axes._subplots.AxesSubplot at 0x28eda259d68>"
      ]
     },
     "execution_count": 22,
     "metadata": {},
     "output_type": "execute_result"
    },
    {
     "data": {
      "image/png": "[encoded data removed]",
      "text/plain": [
       "<Figure size 432x288 with 1 Axes>"
      ]
     },
     "metadata": {
      "needs_background": "light"
     },
     "output_type": "display_data"
    },
    {
     "data": {
      "image/png": "[encoded data removed]",
      "text/plain": [
       "<Figure size 432x288 with 1 Axes>"
      ]
     },
     "metadata": {
      "needs_background": "light"
     },
     "output_type": "display_data"
    }
   ],
   "source": [
    "#Begin by looking at the distribution of processing methods \n",
    "print(cdf['Processing.Method'].value_counts())\n",
    "\n",
    "#Create figures to hold graphs\n",
    "fig1= plt.figure()\n",
    "fig2 = plt.figure()\n",
    "\n",
    "#Bar Graph for Each Processing Method\n",
    "method = cdf['Processing.Method']\n",
    "quality = cdf['Total.Cup.Points']\n",
    "plt.bar(method,quality)\n",
    "plt.title('Processing Method and Quality Score')\n",
    "plt.xlabel('Processing Method')\n",
    "plt.ylabel('Quality Score')\n",
    "plt.xticks(rotation=90)\n",
    "\n",
    "#Conducting ANOVA test\n",
    "mod = ols(formula = 'Q(\\\"Total.Cup.Points\\\") ~ C(Q(\\\"Processing.Method\\\"))', data=cdf).fit()\n",
    "aov_table = sm.stats.anova_lm(mod, typ=2)\n",
    "print(aov_table)\n",
    "\n",
    "#Same data in boxplot form\n",
    "cdf.boxplot(column= 'Total.Cup.Points', by='Processing.Method', rot = 90)\n",
    "\n"
   ]
  },
  {
   "cell_type": "markdown",
   "metadata": {},
   "source": [
    "# Growth Altitude"
   ]
  },
  {
   "cell_type": "code",
   "execution_count": null,
   "metadata": {},
   "outputs": [],
   "source": []
  }
 ],
 "metadata": {
  "kernelspec": {
   "display_name": "Python 3",
   "language": "python",
   "name": "python3"
  },
  "language_info": {
   "codemirror_mode": {
    "name": "ipython",
    "version": 3
   },
   "file_extension": ".py",
   "mimetype": "text/x-python",
   "name": "python",
   "nbconvert_exporter": "python",
   "pygments_lexer": "ipython3",
   "version": "3.7.3"
  },
  "varInspector": {
   "cols": {
    "lenName": 16,
    "lenType": 16,
    "lenVar": 40
   },
   "kernels_config": {
    "python": {
     "delete_cmd_postfix": "",
     "delete_cmd_prefix": "del ",
     "library": "var_list.py",
     "varRefreshCmd": "print(var_dic_list())"
    },
    "r": {
     "delete_cmd_postfix": ") ",
     "delete_cmd_prefix": "rm(",
     "library": "var_list.r",
     "varRefreshCmd": "cat(var_dic_list()) "
    }
   },
   "types_to_exclude": [
    "module",
    "function",
    "builtin_function_or_method",
    "instance",
    "_Feature"
   ],
   "window_display": false
  }
 },
 "nbformat": 4,
 "nbformat_minor": 4
}
